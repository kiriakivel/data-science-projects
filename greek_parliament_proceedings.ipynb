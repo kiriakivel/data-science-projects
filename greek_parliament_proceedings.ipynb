{
 "cells": [
  {
   "cell_type": "markdown",
   "metadata": {
    "id": "r9vmdWLKNBr3"
   },
   "source": [
    "# Speech analysis from greek parliament proceedings\n",
    "This project aims at applying machine learning techniques to classify speeches based on the speakers' political parties. The data was acquired from [Zenodo](https://zenodo.org/record/2587904) where a description of the dataset can also be found. "
   ]
  },
  {
   "cell_type": "markdown",
   "metadata": {
    "id": "KJPTQm1mNzq9"
   },
   "source": [
    "# Subset selection\n",
    "Since the initial dataset is too large for the capabilities of the given hardware setting, a subset of the data will be examined. Speeches that occured after the 10th of March 2004 and before the 6th of October 2009 were chosen. This is the period of Konstantinos A. Karamanlis' two consecutive tenures as a prime minister of Greece. This data is equivalent to about 20% of the initial dataset."
   ]
  },
  {
   "cell_type": "code",
   "execution_count": 3,
   "metadata": {
    "id": "jniNuwvwhVS1"
   },
   "outputs": [],
   "source": [
    "import pandas as pd\n",
    "import matplotlib\n",
    "import matplotlib.pyplot as plt\n",
    "from sklearn.model_selection import train_test_split\n",
    "from sklearn.feature_extraction.text import TfidfVectorizer\n",
    "from sklearn.naive_bayes import MultinomialNB\n",
    "from sklearn.dummy import DummyClassifier\n",
    "from sklearn.tree import DecisionTreeClassifier\n",
    "from sklearn.model_selection import GridSearchCV\n",
    "import numpy as np\n",
    "import el_core_news_sm\n",
    "nlp = el_core_news_sm.load()"
   ]
  },
  {
   "cell_type": "code",
   "execution_count": 39,
   "metadata": {
    "colab": {
     "base_uri": "https://localhost:8080/",
     "height": 570
    },
    "id": "Pit8DnUwhVS9",
    "outputId": "3774b52c-4efc-4615-cef5-e646fed6a651",
    "scrolled": true
   },
   "outputs": [
    {
     "data": {
      "text/html": [
       "<div>\n",
       "<style scoped>\n",
       "    .dataframe tbody tr th:only-of-type {\n",
       "        vertical-align: middle;\n",
       "    }\n",
       "\n",
       "    .dataframe tbody tr th {\n",
       "        vertical-align: top;\n",
       "    }\n",
       "\n",
       "    .dataframe thead th {\n",
       "        text-align: right;\n",
       "    }\n",
       "</style>\n",
       "<table border=\"1\" class=\"dataframe\">\n",
       "  <thead>\n",
       "    <tr style=\"text-align: right;\">\n",
       "      <th></th>\n",
       "      <th>member_name</th>\n",
       "      <th>sitting_date</th>\n",
       "      <th>parliamentary_period</th>\n",
       "      <th>parliamentary_session</th>\n",
       "      <th>parliamentary_sitting</th>\n",
       "      <th>political_party</th>\n",
       "      <th>speaker_info</th>\n",
       "      <th>speech</th>\n",
       "    </tr>\n",
       "  </thead>\n",
       "  <tbody>\n",
       "    <tr>\n",
       "      <th>0</th>\n",
       "      <td>γειτονας ιωαννη κωνσταντινος</td>\n",
       "      <td>2004-03-18</td>\n",
       "      <td>period 11 presided parliamentary republic</td>\n",
       "      <td>session 1</td>\n",
       "      <td>sitting 1</td>\n",
       "      <td>πανελληνιο σοσιαλιστικο κινημα</td>\n",
       "      <td>προσωρινος προεδρος</td>\n",
       "      <td>Επίσης, έχω την τιμή να ανακοινώσω στο Σώμα τ...</td>\n",
       "    </tr>\n",
       "    <tr>\n",
       "      <th>1</th>\n",
       "      <td>γειτονας ιωαννη κωνσταντινος</td>\n",
       "      <td>2004-03-18</td>\n",
       "      <td>period 11 presided parliamentary republic</td>\n",
       "      <td>session 1</td>\n",
       "      <td>sitting 1</td>\n",
       "      <td>πανελληνιο σοσιαλιστικο κινημα</td>\n",
       "      <td>προσωρινος προεδρος</td>\n",
       "      <td>Παρακαλώ τις κυρίες και τους κυρίους Βουλευτέ...</td>\n",
       "    </tr>\n",
       "    <tr>\n",
       "      <th>2</th>\n",
       "      <td>NaN</td>\n",
       "      <td>2004-03-18</td>\n",
       "      <td>period 11 presided parliamentary republic</td>\n",
       "      <td>session 1</td>\n",
       "      <td>sitting 1</td>\n",
       "      <td>βουλη</td>\n",
       "      <td>βουλευτης/ες</td>\n",
       "      <td>Μάλιστα, μάλιστα.</td>\n",
       "    </tr>\n",
       "    <tr>\n",
       "      <th>3</th>\n",
       "      <td>γειτονας ιωαννη κωνσταντινος</td>\n",
       "      <td>2004-03-18</td>\n",
       "      <td>period 11 presided parliamentary republic</td>\n",
       "      <td>session 1</td>\n",
       "      <td>sitting 1</td>\n",
       "      <td>πανελληνιο σοσιαλιστικο κινημα</td>\n",
       "      <td>προσωρινος προεδρος</td>\n",
       "      <td>Η Βουλή παρέσχε τη ζητηθείσα εξουσιοδότηση. Π...</td>\n",
       "    </tr>\n",
       "    <tr>\n",
       "      <th>4</th>\n",
       "      <td>NaN</td>\n",
       "      <td>2004-03-18</td>\n",
       "      <td>period 11 presided parliamentary republic</td>\n",
       "      <td>session 1</td>\n",
       "      <td>sitting 1</td>\n",
       "      <td>βουλη</td>\n",
       "      <td>βουλευτης/ες</td>\n",
       "      <td>Μάλιστα, μάλιστα.</td>\n",
       "    </tr>\n",
       "    <tr>\n",
       "      <th>...</th>\n",
       "      <td>...</td>\n",
       "      <td>...</td>\n",
       "      <td>...</td>\n",
       "      <td>...</td>\n",
       "      <td>...</td>\n",
       "      <td>...</td>\n",
       "      <td>...</td>\n",
       "      <td>...</td>\n",
       "    </tr>\n",
       "    <tr>\n",
       "      <th>229126</th>\n",
       "      <td>κακλαμανης χρηστου αποστολος</td>\n",
       "      <td>2009-09-03</td>\n",
       "      <td>period 12 presided parliamentary republic</td>\n",
       "      <td>'09 summer recess section 2</td>\n",
       "      <td>sitting 36</td>\n",
       "      <td>πανελληνιο σοσιαλιστικο κινημα</td>\n",
       "      <td>NaN</td>\n",
       "      <td>Και «καλό βόλι» λέμε, κύριε Πρόεδρε.</td>\n",
       "    </tr>\n",
       "    <tr>\n",
       "      <th>229127</th>\n",
       "      <td>σιουφας γεωργιου δημητριος</td>\n",
       "      <td>2009-09-03</td>\n",
       "      <td>period 12 presided parliamentary republic</td>\n",
       "      <td>'09 summer recess section 2</td>\n",
       "      <td>sitting 36</td>\n",
       "      <td>νεα δημοκρατια</td>\n",
       "      <td>προεδρος</td>\n",
       "      <td>Παρακαλώ, κυρίες και κύριοι συνάδελφοι, να εξ...</td>\n",
       "    </tr>\n",
       "    <tr>\n",
       "      <th>229128</th>\n",
       "      <td>NaN</td>\n",
       "      <td>2009-09-03</td>\n",
       "      <td>period 12 presided parliamentary republic</td>\n",
       "      <td>'09 summer recess section 2</td>\n",
       "      <td>sitting 36</td>\n",
       "      <td>βουλη</td>\n",
       "      <td>βουλευτης/ες</td>\n",
       "      <td>Μάλιστα, μάλιστα.</td>\n",
       "    </tr>\n",
       "    <tr>\n",
       "      <th>229129</th>\n",
       "      <td>σιουφας γεωργιου δημητριος</td>\n",
       "      <td>2009-09-03</td>\n",
       "      <td>period 12 presided parliamentary republic</td>\n",
       "      <td>'09 summer recess section 2</td>\n",
       "      <td>sitting 36</td>\n",
       "      <td>νεα δημοκρατια</td>\n",
       "      <td>προεδρος</td>\n",
       "      <td>Το Τμήμα παρέσχε την εξουσιοδότηση για την υπ...</td>\n",
       "    </tr>\n",
       "    <tr>\n",
       "      <th>229130</th>\n",
       "      <td>NaN</td>\n",
       "      <td>2009-09-03</td>\n",
       "      <td>period 12 presided parliamentary republic</td>\n",
       "      <td>'09 summer recess section 2</td>\n",
       "      <td>sitting 36</td>\n",
       "      <td>βουλη</td>\n",
       "      <td>βουλευτης/ες</td>\n",
       "      <td>Μάλιστα, μάλιστα.</td>\n",
       "    </tr>\n",
       "  </tbody>\n",
       "</table>\n",
       "<p>229131 rows × 8 columns</p>\n",
       "</div>"
      ],
      "text/plain": [
       "                         member_name  ...                                             speech\n",
       "0       γειτονας ιωαννη κωνσταντινος  ...   Επίσης, έχω την τιμή να ανακοινώσω στο Σώμα τ...\n",
       "1       γειτονας ιωαννη κωνσταντινος  ...   Παρακαλώ τις κυρίες και τους κυρίους Βουλευτέ...\n",
       "2                                NaN  ...                                  Μάλιστα, μάλιστα.\n",
       "3       γειτονας ιωαννη κωνσταντινος  ...   Η Βουλή παρέσχε τη ζητηθείσα εξουσιοδότηση. Π...\n",
       "4                                NaN  ...                                 Μάλιστα, μάλιστα. \n",
       "...                              ...  ...                                                ...\n",
       "229126  κακλαμανης χρηστου αποστολος  ...               Και «καλό βόλι» λέμε, κύριε Πρόεδρε.\n",
       "229127    σιουφας γεωργιου δημητριος  ...   Παρακαλώ, κυρίες και κύριοι συνάδελφοι, να εξ...\n",
       "229128                           NaN  ...                                  Μάλιστα, μάλιστα.\n",
       "229129    σιουφας γεωργιου δημητριος  ...   Το Τμήμα παρέσχε την εξουσιοδότηση για την υπ...\n",
       "229130                           NaN  ...                                  Μάλιστα, μάλιστα.\n",
       "\n",
       "[229131 rows x 8 columns]"
      ]
     },
     "execution_count": 39,
     "metadata": {
      "tags": []
     },
     "output_type": "execute_result"
    }
   ],
   "source": [
    "data = pd.read_csv('Greek_Parliament_Proceedings_1989_2019.csv')\n",
    "to_drop = [i for i in range(0,497038)]\n",
    "data.drop(to_drop,inplace=True)\n",
    "to_drop = [i for i in range(726177,1194407)]\n",
    "data.drop(to_drop,inplace=True)\n",
    "data.dropna(subset=['speech','political_party'],inplace=True)\n",
    "data"
   ]
  },
  {
   "cell_type": "markdown",
   "metadata": {
    "id": "evy3P3pcOUgB"
   },
   "source": [
    "# Data exploration\n",
    "A brief description of the data is presented below using aggregations.\n",
    "\n",
    "As it seems, in the selected time period there were more speeches from New Democracy (νεα δημοκρατια), which was the government's party. This makes sense, since they constituted the majority of parliament members. Also as expected, Panhellenic Socialist Movement - PASOK (πανελλήνιο σοσιαλιστικό κίνημα), which was the second most voted party at the time, has come second in number of speeches."
   ]
  },
  {
   "cell_type": "code",
   "execution_count": 6,
   "metadata": {
    "colab": {
     "base_uri": "https://localhost:8080/",
     "height": 402
    },
    "id": "U5K8w-hqhVS_",
    "outputId": "5fee25e3-a35b-4ec3-d7cd-ebaf2c4530fe"
   },
   "outputs": [
    {
     "data": {
      "text/html": [
       "<div>\n",
       "<style scoped>\n",
       "    .dataframe tbody tr th:only-of-type {\n",
       "        vertical-align: middle;\n",
       "    }\n",
       "\n",
       "    .dataframe tbody tr th {\n",
       "        vertical-align: top;\n",
       "    }\n",
       "\n",
       "    .dataframe thead th {\n",
       "        text-align: right;\n",
       "    }\n",
       "</style>\n",
       "<table border=\"1\" class=\"dataframe\">\n",
       "  <thead>\n",
       "    <tr style=\"text-align: right;\">\n",
       "      <th></th>\n",
       "      <th>speech</th>\n",
       "    </tr>\n",
       "    <tr>\n",
       "      <th>political_party</th>\n",
       "      <th></th>\n",
       "    </tr>\n",
       "  </thead>\n",
       "  <tbody>\n",
       "    <tr>\n",
       "      <th>νεα δημοκρατια</th>\n",
       "      <td>123352</td>\n",
       "    </tr>\n",
       "    <tr>\n",
       "      <th>πανελληνιο σοσιαλιστικο κινημα</th>\n",
       "      <td>58243</td>\n",
       "    </tr>\n",
       "    <tr>\n",
       "      <th>κομμουνιστικο κομμα ελλαδας</th>\n",
       "      <td>17925</td>\n",
       "    </tr>\n",
       "    <tr>\n",
       "      <th>συνασπισμος ριζοσπαστικης αριστερας</th>\n",
       "      <td>9821</td>\n",
       "    </tr>\n",
       "    <tr>\n",
       "      <th>βουλη</th>\n",
       "      <td>9782</td>\n",
       "    </tr>\n",
       "    <tr>\n",
       "      <th>λαικος ορθοδοξος συναγερμος</th>\n",
       "      <td>7393</td>\n",
       "    </tr>\n",
       "    <tr>\n",
       "      <th>ανεξαρτητοι (εκτος κομματος)</th>\n",
       "      <td>2077</td>\n",
       "    </tr>\n",
       "    <tr>\n",
       "      <th>δημοκρατικη αριστερα</th>\n",
       "      <td>254</td>\n",
       "    </tr>\n",
       "    <tr>\n",
       "      <th>συνασπισμος της αριστερας των κινηματων και της οικολογιας</th>\n",
       "      <td>238</td>\n",
       "    </tr>\n",
       "    <tr>\n",
       "      <th>ανεξαρτητοι ελληνες - πανος καμμενος</th>\n",
       "      <td>45</td>\n",
       "    </tr>\n",
       "    <tr>\n",
       "      <th>αντιπολιτευση</th>\n",
       "      <td>1</td>\n",
       "    </tr>\n",
       "  </tbody>\n",
       "</table>\n",
       "</div>"
      ],
      "text/plain": [
       "                                                    speech\n",
       "political_party                                           \n",
       "νεα δημοκρατια                                      123352\n",
       "πανελληνιο σοσιαλιστικο κινημα                       58243\n",
       "κομμουνιστικο κομμα ελλαδας                          17925\n",
       "συνασπισμος ριζοσπαστικης αριστερας                   9821\n",
       "βουλη                                                 9782\n",
       "λαικος ορθοδοξος συναγερμος                           7393\n",
       "ανεξαρτητοι (εκτος κομματος)                          2077\n",
       "δημοκρατικη αριστερα                                   254\n",
       "συνασπισμος της αριστερας των κινηματων και της...     238\n",
       "ανεξαρτητοι ελληνες - πανος καμμενος                    45\n",
       "αντιπολιτευση                                            1"
      ]
     },
     "execution_count": 6,
     "metadata": {
      "tags": []
     },
     "output_type": "execute_result"
    }
   ],
   "source": [
    "speech_by_party = data[['speech', 'political_party']].groupby(by=['political_party']).count().sort_values(by=['speech'],ascending=False)\n",
    "speech_by_party"
   ]
  },
  {
   "cell_type": "code",
   "execution_count": 7,
   "metadata": {
    "colab": {
     "base_uri": "https://localhost:8080/",
     "height": 431
    },
    "id": "3rAvGCp3hVS_",
    "outputId": "9c428349-8622-4712-d069-e81dece5d757"
   },
   "outputs": [
    {
     "data": {
      "text/html": [
       "<div>\n",
       "<style scoped>\n",
       "    .dataframe tbody tr th:only-of-type {\n",
       "        vertical-align: middle;\n",
       "    }\n",
       "\n",
       "    .dataframe tbody tr th {\n",
       "        vertical-align: top;\n",
       "    }\n",
       "\n",
       "    .dataframe thead th {\n",
       "        text-align: right;\n",
       "    }\n",
       "</style>\n",
       "<table border=\"1\" class=\"dataframe\">\n",
       "  <thead>\n",
       "    <tr style=\"text-align: right;\">\n",
       "      <th></th>\n",
       "      <th>speech</th>\n",
       "    </tr>\n",
       "    <tr>\n",
       "      <th>sitting_date</th>\n",
       "      <th></th>\n",
       "    </tr>\n",
       "  </thead>\n",
       "  <tbody>\n",
       "    <tr>\n",
       "      <th>2009-09-03</th>\n",
       "      <td>72</td>\n",
       "    </tr>\n",
       "    <tr>\n",
       "      <th>2009-09-02</th>\n",
       "      <td>324</td>\n",
       "    </tr>\n",
       "    <tr>\n",
       "      <th>2009-09-01</th>\n",
       "      <td>301</td>\n",
       "    </tr>\n",
       "    <tr>\n",
       "      <th>2009-08-27</th>\n",
       "      <td>205</td>\n",
       "    </tr>\n",
       "    <tr>\n",
       "      <th>2009-08-26</th>\n",
       "      <td>616</td>\n",
       "    </tr>\n",
       "    <tr>\n",
       "      <th>...</th>\n",
       "      <td>...</td>\n",
       "    </tr>\n",
       "    <tr>\n",
       "      <th>2004-03-22</th>\n",
       "      <td>146</td>\n",
       "    </tr>\n",
       "    <tr>\n",
       "      <th>2004-03-21</th>\n",
       "      <td>113</td>\n",
       "    </tr>\n",
       "    <tr>\n",
       "      <th>2004-03-20</th>\n",
       "      <td>11</td>\n",
       "    </tr>\n",
       "    <tr>\n",
       "      <th>2004-03-19</th>\n",
       "      <td>21</td>\n",
       "    </tr>\n",
       "    <tr>\n",
       "      <th>2004-03-18</th>\n",
       "      <td>5</td>\n",
       "    </tr>\n",
       "  </tbody>\n",
       "</table>\n",
       "<p>982 rows × 1 columns</p>\n",
       "</div>"
      ],
      "text/plain": [
       "              speech\n",
       "sitting_date        \n",
       "2009-09-03        72\n",
       "2009-09-02       324\n",
       "2009-09-01       301\n",
       "2009-08-27       205\n",
       "2009-08-26       616\n",
       "...              ...\n",
       "2004-03-22       146\n",
       "2004-03-21       113\n",
       "2004-03-20        11\n",
       "2004-03-19        21\n",
       "2004-03-18         5\n",
       "\n",
       "[982 rows x 1 columns]"
      ]
     },
     "execution_count": 7,
     "metadata": {
      "tags": []
     },
     "output_type": "execute_result"
    }
   ],
   "source": [
    "speech_by_date = data[['speech', 'sitting_date']].groupby(by=['sitting_date']).count().sort_values(by='sitting_date',ascending=False)\n",
    "speech_by_date"
   ]
  },
  {
   "cell_type": "markdown",
   "metadata": {
    "id": "r7NOGLVrWvFX"
   },
   "source": [
    "In the table above, we can see the distribution of number of speeches in time for the selected 5 years."
   ]
  },
  {
   "cell_type": "markdown",
   "metadata": {
    "id": "X-gIFlIaW98-"
   },
   "source": [
    "Below, the speeches given by each party in each day are displayed. It's easy to notice by looking at a few examples that the governement (New Democracy) and the biggest opposing party (PASOK) are the ones who mostly speak."
   ]
  },
  {
   "cell_type": "code",
   "execution_count": 8,
   "metadata": {
    "colab": {
     "base_uri": "https://localhost:8080/",
     "height": 431
    },
    "id": "y1cU9nGohVS_",
    "outputId": "58c35441-98c5-422d-d53a-c19e74bdbacb"
   },
   "outputs": [
    {
     "data": {
      "text/html": [
       "<div>\n",
       "<style scoped>\n",
       "    .dataframe tbody tr th:only-of-type {\n",
       "        vertical-align: middle;\n",
       "    }\n",
       "\n",
       "    .dataframe tbody tr th {\n",
       "        vertical-align: top;\n",
       "    }\n",
       "\n",
       "    .dataframe thead th {\n",
       "        text-align: right;\n",
       "    }\n",
       "</style>\n",
       "<table border=\"1\" class=\"dataframe\">\n",
       "  <thead>\n",
       "    <tr style=\"text-align: right;\">\n",
       "      <th></th>\n",
       "      <th></th>\n",
       "      <th>speech</th>\n",
       "    </tr>\n",
       "    <tr>\n",
       "      <th>sitting_date</th>\n",
       "      <th>political_party</th>\n",
       "      <th></th>\n",
       "    </tr>\n",
       "  </thead>\n",
       "  <tbody>\n",
       "    <tr>\n",
       "      <th rowspan=\"2\" valign=\"top\">2004-03-18</th>\n",
       "      <th>βουλη</th>\n",
       "      <td>2</td>\n",
       "    </tr>\n",
       "    <tr>\n",
       "      <th>πανελληνιο σοσιαλιστικο κινημα</th>\n",
       "      <td>3</td>\n",
       "    </tr>\n",
       "    <tr>\n",
       "      <th rowspan=\"3\" valign=\"top\">2004-03-19</th>\n",
       "      <th>βουλη</th>\n",
       "      <td>7</td>\n",
       "    </tr>\n",
       "    <tr>\n",
       "      <th>νεα δημοκρατια</th>\n",
       "      <td>9</td>\n",
       "    </tr>\n",
       "    <tr>\n",
       "      <th>πανελληνιο σοσιαλιστικο κινημα</th>\n",
       "      <td>5</td>\n",
       "    </tr>\n",
       "    <tr>\n",
       "      <th>...</th>\n",
       "      <th>...</th>\n",
       "      <td>...</td>\n",
       "    </tr>\n",
       "    <tr>\n",
       "      <th rowspan=\"5\" valign=\"top\">2009-09-03</th>\n",
       "      <th>δημοκρατικη αριστερα</th>\n",
       "      <td>3</td>\n",
       "    </tr>\n",
       "    <tr>\n",
       "      <th>κομμουνιστικο κομμα ελλαδας</th>\n",
       "      <td>4</td>\n",
       "    </tr>\n",
       "    <tr>\n",
       "      <th>λαικος ορθοδοξος συναγερμος</th>\n",
       "      <td>6</td>\n",
       "    </tr>\n",
       "    <tr>\n",
       "      <th>νεα δημοκρατια</th>\n",
       "      <td>38</td>\n",
       "    </tr>\n",
       "    <tr>\n",
       "      <th>πανελληνιο σοσιαλιστικο κινημα</th>\n",
       "      <td>10</td>\n",
       "    </tr>\n",
       "  </tbody>\n",
       "</table>\n",
       "<p>5411 rows × 1 columns</p>\n",
       "</div>"
      ],
      "text/plain": [
       "                                             speech\n",
       "sitting_date political_party                       \n",
       "2004-03-18   βουλη                                2\n",
       "             πανελληνιο σοσιαλιστικο κινημα       3\n",
       "2004-03-19   βουλη                                7\n",
       "             νεα δημοκρατια                       9\n",
       "             πανελληνιο σοσιαλιστικο κινημα       5\n",
       "...                                             ...\n",
       "2009-09-03   δημοκρατικη αριστερα                 3\n",
       "             κομμουνιστικο κομμα ελλαδας          4\n",
       "             λαικος ορθοδοξος συναγερμος          6\n",
       "             νεα δημοκρατια                      38\n",
       "             πανελληνιο σοσιαλιστικο κινημα      10\n",
       "\n",
       "[5411 rows x 1 columns]"
      ]
     },
     "execution_count": 8,
     "metadata": {
      "tags": []
     },
     "output_type": "execute_result"
    }
   ],
   "source": [
    "speech_by_party_and_date = data[['speech', 'political_party', 'sitting_date']].groupby(by=['sitting_date','political_party']).count()\n",
    "speech_by_party_and_date"
   ]
  },
  {
   "cell_type": "markdown",
   "metadata": {
    "id": "0BcF3xEDXP5x"
   },
   "source": [
    "Finally, the number of speakers per party is displyed below. Again, the distribution is as expected."
   ]
  },
  {
   "cell_type": "code",
   "execution_count": 9,
   "metadata": {
    "colab": {
     "base_uri": "https://localhost:8080/",
     "height": 402
    },
    "id": "3zb8CscWhVS_",
    "outputId": "4f6c01bf-a1c8-4289-efbb-c48536e19656"
   },
   "outputs": [
    {
     "data": {
      "text/html": [
       "<div>\n",
       "<style scoped>\n",
       "    .dataframe tbody tr th:only-of-type {\n",
       "        vertical-align: middle;\n",
       "    }\n",
       "\n",
       "    .dataframe tbody tr th {\n",
       "        vertical-align: top;\n",
       "    }\n",
       "\n",
       "    .dataframe thead th {\n",
       "        text-align: right;\n",
       "    }\n",
       "</style>\n",
       "<table border=\"1\" class=\"dataframe\">\n",
       "  <thead>\n",
       "    <tr style=\"text-align: right;\">\n",
       "      <th></th>\n",
       "      <th>member_name</th>\n",
       "    </tr>\n",
       "    <tr>\n",
       "      <th>political_party</th>\n",
       "      <th></th>\n",
       "    </tr>\n",
       "  </thead>\n",
       "  <tbody>\n",
       "    <tr>\n",
       "      <th>νεα δημοκρατια</th>\n",
       "      <td>200</td>\n",
       "    </tr>\n",
       "    <tr>\n",
       "      <th>πανελληνιο σοσιαλιστικο κινημα</th>\n",
       "      <td>148</td>\n",
       "    </tr>\n",
       "    <tr>\n",
       "      <th>κομμουνιστικο κομμα ελλαδας</th>\n",
       "      <td>30</td>\n",
       "    </tr>\n",
       "    <tr>\n",
       "      <th>ανεξαρτητοι (εκτος κομματος)</th>\n",
       "      <td>20</td>\n",
       "    </tr>\n",
       "    <tr>\n",
       "      <th>συνασπισμος ριζοσπαστικης αριστερας</th>\n",
       "      <td>17</td>\n",
       "    </tr>\n",
       "    <tr>\n",
       "      <th>λαικος ορθοδοξος συναγερμος</th>\n",
       "      <td>13</td>\n",
       "    </tr>\n",
       "    <tr>\n",
       "      <th>δημοκρατικη αριστερα</th>\n",
       "      <td>4</td>\n",
       "    </tr>\n",
       "    <tr>\n",
       "      <th>ανεξαρτητοι ελληνες - πανος καμμενος</th>\n",
       "      <td>2</td>\n",
       "    </tr>\n",
       "    <tr>\n",
       "      <th>συνασπισμος της αριστερας των κινηματων και της οικολογιας</th>\n",
       "      <td>2</td>\n",
       "    </tr>\n",
       "    <tr>\n",
       "      <th>αντιπολιτευση</th>\n",
       "      <td>0</td>\n",
       "    </tr>\n",
       "    <tr>\n",
       "      <th>βουλη</th>\n",
       "      <td>0</td>\n",
       "    </tr>\n",
       "  </tbody>\n",
       "</table>\n",
       "</div>"
      ],
      "text/plain": [
       "                                                    member_name\n",
       "political_party                                                \n",
       "νεα δημοκρατια                                              200\n",
       "πανελληνιο σοσιαλιστικο κινημα                              148\n",
       "κομμουνιστικο κομμα ελλαδας                                  30\n",
       "ανεξαρτητοι (εκτος κομματος)                                 20\n",
       "συνασπισμος ριζοσπαστικης αριστερας                          17\n",
       "λαικος ορθοδοξος συναγερμος                                  13\n",
       "δημοκρατικη αριστερα                                          4\n",
       "ανεξαρτητοι ελληνες - πανος καμμενος                          2\n",
       "συνασπισμος της αριστερας των κινηματων και της...            2\n",
       "αντιπολιτευση                                                 0\n",
       "βουλη                                                         0"
      ]
     },
     "execution_count": 9,
     "metadata": {
      "tags": []
     },
     "output_type": "execute_result"
    }
   ],
   "source": [
    "speakers_per_party = data[['member_name', 'political_party']].groupby(by=['political_party']).nunique().sort_values(by='member_name',ascending=False)\n",
    "speakers_per_party"
   ]
  },
  {
   "cell_type": "markdown",
   "metadata": {
    "id": "vu5NHCDKX523"
   },
   "source": [
    "# Classification without neural networks\n",
    "Below, the data is splin in train and test sets, and machine learning models are tested."
   ]
  },
  {
   "cell_type": "code",
   "execution_count": 5,
   "metadata": {
    "id": "Pwulo7M9hVTA"
   },
   "outputs": [],
   "source": [
    "x_train, x_test, y_train, y_test = train_test_split(data['speech'], data['political_party'], test_size=0.25, random_state=33) #random selection, no need to shuffle"
   ]
  },
  {
   "cell_type": "markdown",
   "metadata": {
    "id": "8qTQQM-jYMd5"
   },
   "source": [
    "A custom tokenizer is made using spacy to be able to work with the greek language. Punctuation and numbers are removed. Only each word's lemma is maintained. Stop-words are also removed."
   ]
  },
  {
   "cell_type": "code",
   "execution_count": null,
   "metadata": {
    "id": "_GCcMvBChVTA"
   },
   "outputs": [],
   "source": [
    "def spacy_tokenizer(sentence):\n",
    "    # Creating our token object, which is used to create documents with linguistic annotations.\n",
    "    mytokens = nlp(sentence)\n",
    "\n",
    "    # Lemmatizing each token and converting each token into lowercase\n",
    "    mytokens = [ word.lemma_.lower().strip() for word in mytokens  if word.is_stop==False and word.is_alpha ]\n",
    "\n",
    "    # return preprocessed list of tokens\n",
    "    return mytokens"
   ]
  },
  {
   "cell_type": "markdown",
   "metadata": {
    "id": "tZ6NB7ZeYgF7"
   },
   "source": [
    "Then the tokenizer is used to train a tf-idf model and transform speech texts into vectors."
   ]
  },
  {
   "cell_type": "code",
   "execution_count": null,
   "metadata": {
    "id": "GX29FzCFhVTA",
    "outputId": "09fe9f02-94b1-43d6-8229-a66b05ca35be"
   },
   "outputs": [
    {
     "data": {
      "text/plain": [
       "<171848x40733 sparse matrix of type '<class 'numpy.float64'>'\n",
       "\twith 8498683 stored elements in Compressed Sparse Row format>"
      ]
     },
     "execution_count": 5,
     "metadata": {
      "tags": []
     },
     "output_type": "execute_result"
    }
   ],
   "source": [
    "tvect = TfidfVectorizer(tokenizer = spacy_tokenizer,max_df=0.5,min_df=10)\n",
    "x_train = tvect.fit_transform(x_train)\n",
    "x_train"
   ]
  },
  {
   "cell_type": "code",
   "execution_count": null,
   "metadata": {
    "id": "IE2ASNEBhVTB",
    "outputId": "3d4aa42a-c43d-422c-a49e-240fbecaf26b"
   },
   "outputs": [
    {
     "data": {
      "text/plain": [
       "<57283x40733 sparse matrix of type '<class 'numpy.float64'>'\n",
       "\twith 2813512 stored elements in Compressed Sparse Row format>"
      ]
     },
     "execution_count": 6,
     "metadata": {
      "tags": []
     },
     "output_type": "execute_result"
    }
   ],
   "source": [
    "x_test = tvect.transform(x_test)\n",
    "x_test"
   ]
  },
  {
   "cell_type": "markdown",
   "metadata": {
    "id": "CCYU9a8wZF7H"
   },
   "source": [
    "The first algorithm to be tried out is MultinomialNB. We'll do a GridSearch for the value of the alpha hyperparameter.\n",
    "Results indicate the model is doing good enough. Parties with low support like 'δημοκρατική αριστερά' (Democratic Left) lower its performance. However the bigger parties are doing good."
   ]
  },
  {
   "cell_type": "code",
   "execution_count": null,
   "metadata": {
    "id": "1ll6m17VhVTB",
    "outputId": "2bf26bcd-11a2-46b7-dd37-6a1c2c82ef15"
   },
   "outputs": [
    {
     "name": "stdout",
     "output_type": "stream",
     "text": [
      "                                                            precision    recall  f1-score   support\n",
      "\n",
      "                              ανεξαρτητοι (εκτος κομματος)       0.50      0.00      0.01       517\n",
      "                      ανεξαρτητοι ελληνες - πανος καμμενος       1.00      0.00      0.00        11\n",
      "                                                     βουλη       0.98      0.68      0.81      2421\n",
      "                                      δημοκρατικη αριστερα       1.00      0.00      0.00        60\n",
      "                               κομμουνιστικο κομμα ελλαδας       0.54      0.35      0.42      4409\n",
      "                               λαικος ορθοδοξος συναγερμος       0.80      0.07      0.13      1845\n",
      "                                            νεα δημοκρατια       0.67      0.85      0.75     30954\n",
      "                            πανελληνιο σοσιαλιστικο κινημα       0.48      0.43      0.45     14574\n",
      "                       συνασπισμος ριζοσπαστικης αριστερας       0.72      0.04      0.07      2438\n",
      "συνασπισμος της αριστερας των κινηματων και της οικολογιας       0.50      0.02      0.04        54\n",
      "\n",
      "                                                  accuracy                           0.63     57283\n",
      "                                                 macro avg       0.72      0.24      0.27     57283\n",
      "                                              weighted avg       0.63      0.63      0.59     57283\n",
      "\n"
     ]
    },
    {
     "data": {
      "text/plain": [
       "0.6286856484471833"
      ]
     },
     "execution_count": 20,
     "metadata": {
      "tags": []
     },
     "output_type": "execute_result"
    }
   ],
   "source": [
    "from sklearn.model_selection import GridSearchCV\n",
    "mnb = MultinomialNB()\n",
    "parameters = {'alpha':[1e-1,1e-3]}\n",
    "mnb_clf = GridSearchCV(mnb,parameters)\n",
    "mnb_clf.fit(x_train,y_train)\n",
    "mnb_clf.best_params_\n",
    "mnb_pred = mnb_clf.predict(x_test)\n",
    "print(classification_report(y_test,mnb_pred,zero_division=1))\n",
    "mnb_clf.score(x_test,y_test)"
   ]
  },
  {
   "cell_type": "markdown",
   "metadata": {
    "id": "QgBeCQh-ZptP"
   },
   "source": [
    "Almost the same results occur with decision trees, even with a relatively small depth of 10 or 20."
   ]
  },
  {
   "cell_type": "code",
   "execution_count": null,
   "metadata": {
    "id": "IDB6D0vuhVTB",
    "outputId": "29e32b1d-67d3-4138-bfa0-6566c5b81ff9"
   },
   "outputs": [
    {
     "name": "stdout",
     "output_type": "stream",
     "text": [
      "                                                            precision    recall  f1-score   support\n",
      "\n",
      "                              ανεξαρτητοι (εκτος κομματος)       0.14      0.01      0.02       517\n",
      "                      ανεξαρτητοι ελληνες - πανος καμμενος       1.00      0.00      0.00        11\n",
      "                                                     βουλη       0.99      0.68      0.81      2421\n",
      "                                      δημοκρατικη αριστερα       0.00      0.00      0.00        60\n",
      "                               κομμουνιστικο κομμα ελλαδας       0.50      0.34      0.40      4409\n",
      "                               λαικος ορθοδοξος συναγερμος       0.43      0.06      0.11      1845\n",
      "                                            νεα δημοκρατια       0.66      0.91      0.77     30954\n",
      "                            πανελληνιο σοσιαλιστικο κινημα       0.54      0.34      0.41     14574\n",
      "                       συνασπισμος ριζοσπαστικης αριστερας       0.41      0.06      0.10      2438\n",
      "συνασπισμος της αριστερας των κινηματων και της οικολογιας       0.33      0.02      0.04        54\n",
      "\n",
      "                                                  accuracy                           0.64     57283\n",
      "                                                 macro avg       0.50      0.24      0.26     57283\n",
      "                                              weighted avg       0.61      0.64      0.59     57283\n",
      "\n"
     ]
    },
    {
     "data": {
      "text/plain": [
       "0.6381125290225721"
      ]
     },
     "execution_count": 19,
     "metadata": {
      "tags": []
     },
     "output_type": "execute_result"
    }
   ],
   "source": [
    "dtree = DecisionTreeClassifier()\n",
    "parameters = {'max_depth':[10,20]}\n",
    "tree_clf = GridSearchCV(dtree,parameters)\n",
    "tree_clf.fit(x_train,y_train)\n",
    "tree_clf.best_params_\n",
    "tree_pred = tree_clf.predict(x_test)\n",
    "print(classification_report(y_test,tree_pred,zero_division=1))\n",
    "tree_clf.score(x_test,y_test)"
   ]
  },
  {
   "cell_type": "markdown",
   "metadata": {
    "id": "5KqRQFYbZ4P-"
   },
   "source": [
    "Finally, the above metrics are compared to a DummyClassifier:\n",
    "Precision is almost half than that of Bayes and Decision Tress. Thus the results are satisfactory."
   ]
  },
  {
   "cell_type": "code",
   "execution_count": null,
   "metadata": {
    "id": "kTtL_Tp3hVTC",
    "outputId": "dd9c3ac4-38b9-42f0-849a-25229ebf1aec"
   },
   "outputs": [
    {
     "name": "stdout",
     "output_type": "stream",
     "text": [
      "                                                            precision    recall  f1-score   support\n",
      "\n",
      "                              ανεξαρτητοι (εκτος κομματος)       0.01      0.01      0.01       517\n",
      "                      ανεξαρτητοι ελληνες - πανος καμμενος       0.00      0.00      0.00        11\n",
      "                                                     βουλη       0.04      0.04      0.04      2421\n",
      "                                      δημοκρατικη αριστερα       0.00      0.00      0.00        60\n",
      "                               κομμουνιστικο κομμα ελλαδας       0.08      0.08      0.08      4409\n",
      "                               λαικος ορθοδοξος συναγερμος       0.03      0.03      0.03      1845\n",
      "                                            νεα δημοκρατια       0.54      0.53      0.54     30954\n",
      "                            πανελληνιο σοσιαλιστικο κινημα       0.26      0.26      0.26     14574\n",
      "                       συνασπισμος ριζοσπαστικης αριστερας       0.04      0.05      0.05      2438\n",
      "συνασπισμος της αριστερας των κινηματων και της οικολογιας       0.00      0.00      0.00        54\n",
      "\n",
      "                                                  accuracy                           0.36     57283\n",
      "                                                 macro avg       0.10      0.10      0.10     57283\n",
      "                                              weighted avg       0.37      0.36      0.37     57283\n",
      "\n"
     ]
    },
    {
     "data": {
      "text/plain": [
       "0.36413944800377074"
      ]
     },
     "execution_count": 16,
     "metadata": {
      "tags": []
     },
     "output_type": "execute_result"
    }
   ],
   "source": [
    "dummy_clf = DummyClassifier()\n",
    "dummy_clf.fit(x_train,y_train)\n",
    "dum_pred = dummy_clf.predict(x_test)\n",
    "print(classification_report(y_test,dum_pred))\n",
    "dummy_clf.score(x_test,y_test)"
   ]
  },
  {
   "cell_type": "markdown",
   "metadata": {
    "id": "XqXnrURTaH1A"
   },
   "source": [
    "# Classification with neural networks\n",
    "For the neural networks we won't use each word's tf-idf, we'll use its embedding instead. So we first split the texts into words, match words to numbers and create a dictionary."
   ]
  },
  {
   "cell_type": "code",
   "execution_count": 6,
   "metadata": {
    "id": "eLnnqcnMhVTC"
   },
   "outputs": [],
   "source": [
    "import tensorflow as tf\n",
    "from tensorflow.keras import Model, Sequential\n",
    "from tensorflow.keras.layers import Activation,Dropout,Input,LSTM,GlobalMaxPool1D,Dense,Embedding,GlobalAveragePooling1D\n",
    "from tensorflow.keras.layers.experimental.preprocessing import TextVectorization\n",
    "from keras import regularizers, optimizers\n",
    "from keras.initializers import Constant"
   ]
  },
  {
   "cell_type": "code",
   "execution_count": 7,
   "metadata": {
    "id": "p8bpxVN1hVTC"
   },
   "outputs": [],
   "source": [
    "Vectorizer = TextVectorization()\n",
    "Vectorizer.adapt(x_train.to_numpy())\n",
    "vocab = Vectorizer.get_vocabulary()"
   ]
  },
  {
   "cell_type": "markdown",
   "metadata": {
    "id": "GScrDhAEan9a"
   },
   "source": [
    "By using the dictionary and the word embeddings provided by spacy for the greek language, we create an embedding matrix."
   ]
  },
  {
   "cell_type": "code",
   "execution_count": 8,
   "metadata": {
    "id": "3xQIF3RlhVTD"
   },
   "outputs": [],
   "source": [
    "num_tokens = len(vocab)\n",
    "embedding_dim = len(nlp('καλημέρα').vector)\n",
    "embedding_matrix = np.zeros((num_tokens,embedding_dim))\n",
    "del vocab[0]\n",
    "for i, word in enumerate(vocab):\n",
    "    embedding_matrix[i] = nlp(word).vector"
   ]
  },
  {
   "cell_type": "markdown",
   "metadata": {
    "id": "HBbdBYf9a0a-"
   },
   "source": [
    "The embedding matrix is used to next build the Embedding Layer of our neural network."
   ]
  },
  {
   "cell_type": "code",
   "execution_count": 10,
   "metadata": {
    "id": "Oae96LN_hVTD"
   },
   "outputs": [],
   "source": [
    "Embedding_layer = Embedding(\n",
    "    num_tokens,\n",
    "    embedding_dim,\n",
    "    embeddings_initializer=Constant(embedding_matrix),\n",
    "    trainable=False,mask_zero=True)"
   ]
  },
  {
   "cell_type": "markdown",
   "metadata": {
    "id": "x0lvdapAbANV"
   },
   "source": [
    "Then the neural network's model is defined."
   ]
  },
  {
   "cell_type": "code",
   "execution_count": 47,
   "metadata": {
    "id": "-0ZM99KkhVTD"
   },
   "outputs": [],
   "source": [
    "model = Sequential()\n",
    "model.add(Input(shape=(1,),dtype=tf.string))\n",
    "model.add(Vectorizer)\n",
    "model.add(Embedding_layer)\n",
    "model.add(LSTM(25,return_sequences=True))\n",
    "model.add(GlobalMaxPool1D())\n",
    "model.add(Dropout(0.5))\n",
    "model.add(Dense(32,activation='tanh',\n",
    "               kernel_regularizer = regularizers.l1_l2(l1=1e-5,l2=1e-4)))\n",
    "model.add(Dense(11))\n",
    "adam = optimizers.Adam(learning_rate=.01,decay=1e-2)\n",
    "model.compile(optimizer=adam,loss='mean_absolute_error',metrics=tf.keras.metrics.BinaryAccuracy(threshold=0.0))"
   ]
  },
  {
   "cell_type": "code",
   "execution_count": 48,
   "metadata": {
    "colab": {
     "base_uri": "https://localhost:8080/"
    },
    "id": "565MuhulhVTE",
    "outputId": "4ff82550-4365-4b23-e6f0-913a9280397b"
   },
   "outputs": [
    {
     "name": "stdout",
     "output_type": "stream",
     "text": [
      "Model: \"sequential_4\"\n",
      "_________________________________________________________________\n",
      "Layer (type)                 Output Shape              Param #   \n",
      "=================================================================\n",
      "text_vectorization (TextVect (None, None)              0         \n",
      "_________________________________________________________________\n",
      "embedding (Embedding)        (None, None, 96)          30320640  \n",
      "_________________________________________________________________\n",
      "lstm_2 (LSTM)                (None, None, 25)          12200     \n",
      "_________________________________________________________________\n",
      "global_max_pooling1d_3 (Glob (None, 25)                0         \n",
      "_________________________________________________________________\n",
      "dropout_3 (Dropout)          (None, 25)                0         \n",
      "_________________________________________________________________\n",
      "dense_6 (Dense)              (None, 32)                832       \n",
      "_________________________________________________________________\n",
      "dense_7 (Dense)              (None, 11)                363       \n",
      "=================================================================\n",
      "Total params: 30,334,035\n",
      "Trainable params: 13,395\n",
      "Non-trainable params: 30,320,640\n",
      "_________________________________________________________________\n",
      "None\n"
     ]
    }
   ],
   "source": [
    "print(model.summary())"
   ]
  },
  {
   "cell_type": "markdown",
   "metadata": {
    "id": "NO1rovYibK5K"
   },
   "source": [
    "We use dummy variables to transofrm the parties' labels into non serial/comparable numbers, since the network is trained to predict numerical values."
   ]
  },
  {
   "cell_type": "code",
   "execution_count": 43,
   "metadata": {
    "colab": {
     "base_uri": "https://localhost:8080/"
    },
    "id": "VZehIf0TAuyt",
    "outputId": "94c57954-40b1-4209-a98b-fae4a8235ba7"
   },
   "outputs": [
    {
     "name": "stdout",
     "output_type": "stream",
     "text": [
      "   Party_ανεξαρτητοι (εκτος κομματος)  ...  Party_συνασπισμος της αριστερας των κινηματων και της οικολογιας\n",
      "0                                   0  ...                                                  0               \n",
      "1                                   0  ...                                                  0               \n",
      "2                                   0  ...                                                  0               \n",
      "3                                   0  ...                                                  0               \n",
      "4                                   0  ...                                                  0               \n",
      "\n",
      "[5 rows x 11 columns]\n"
     ]
    }
   ],
   "source": [
    "y = pd.get_dummies(data.political_party, prefix='Party')\n",
    "print(y.head())"
   ]
  },
  {
   "cell_type": "markdown",
   "metadata": {
    "id": "ZzP3XruBbiS4"
   },
   "source": [
    "Finally, we apply the model to our data and it runs for 5 epochs. As it seems, the neural network didn't so as well as the other models examined above. This could be due to lemmatized tf-idf being more reliable for our case than pre-trained embeddings, because of peculiar vocabulary. It could also be due to poor hyperparameter choices in the case of the neural network.\n",
    "\n",
    "It's also worth noticing that the model's loss is very low. Thε reason for this could be the use of dummy variables, which mostly consist of 0s. It's easier to predict the negatives (i.e. the party the speech does not belong to) than the positives (i.e. the one party it actually belongs to)."
   ]
  },
  {
   "cell_type": "code",
   "execution_count": 52,
   "metadata": {
    "colab": {
     "base_uri": "https://localhost:8080/"
    },
    "id": "OtLkSmbkhVTE",
    "outputId": "398eeb84-e0dc-4572-fce3-51c02c9e3ae5"
   },
   "outputs": [
    {
     "name": "stdout",
     "output_type": "stream",
     "text": [
      "Epoch 1/5\n",
      "17185/17185 [==============================] - 845s 49ms/step - loss: 0.0819 - binary_accuracy: 0.4947 - val_loss: 0.1028 - val_binary_accuracy: 0.6003\n",
      "Epoch 2/5\n",
      "17185/17185 [==============================] - 830s 48ms/step - loss: 0.0731 - binary_accuracy: 0.4961 - val_loss: 0.1024 - val_binary_accuracy: 0.2803\n",
      "Epoch 3/5\n",
      "17185/17185 [==============================] - 856s 50ms/step - loss: 0.0734 - binary_accuracy: 0.4960 - val_loss: 0.1023 - val_binary_accuracy: 0.4140\n",
      "Epoch 4/5\n",
      "17185/17185 [==============================] - 851s 49ms/step - loss: 0.0733 - binary_accuracy: 0.4961 - val_loss: 0.1023 - val_binary_accuracy: 0.3736\n",
      "Epoch 5/5\n",
      "17185/17185 [==============================] - 849s 49ms/step - loss: 0.0732 - binary_accuracy: 0.4960 - val_loss: 0.1022 - val_binary_accuracy: 0.4487\n"
     ]
    },
    {
     "data": {
      "text/plain": [
       "<tensorflow.python.keras.callbacks.History at 0x7fd73f787828>"
      ]
     },
     "execution_count": 52,
     "metadata": {
      "tags": []
     },
     "output_type": "execute_result"
    }
   ],
   "source": [
    "model.fit(data.speech.values,\n",
    "         y,\n",
    "         batch_size=10,\n",
    "         epochs=5,\n",
    "         validation_split=.25 )"
   ]
  }
 ],
 "metadata": {
  "accelerator": "GPU",
  "colab": {
   "name": "assignment3.ipynb",
   "provenance": []
  },
  "kernelspec": {
   "display_name": "Python 3",
   "language": "python",
   "name": "python3"
  },
  "language_info": {
   "codemirror_mode": {
    "name": "ipython",
    "version": 3
   },
   "file_extension": ".py",
   "mimetype": "text/x-python",
   "name": "python",
   "nbconvert_exporter": "python",
   "pygments_lexer": "ipython3",
   "version": "3.6.9"
  }
 },
 "nbformat": 4,
 "nbformat_minor": 1
}
